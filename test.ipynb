{
 "cells": [
  {
   "cell_type": "code",
   "execution_count": 12,
   "metadata": {},
   "outputs": [
    {
     "name": "stdout",
     "output_type": "stream",
     "text": [
      "tensor([[0.5803, 0.9861, 0.0595, 0.1080],\n",
      "        [0.7745, 0.9496, 0.2619, 0.0455],\n",
      "        [0.7472, 0.1649, 0.8204, 0.1740],\n",
      "        [0.7439, 0.6484, 0.9030, 0.8078]])\n",
      "tensor([0.5803, 0.8204, 0.9496])\n",
      "tensor([[0.5803, 0.7472, 0.7745],\n",
      "        [0.0595, 0.8204, 0.2619],\n",
      "        [0.9861, 0.1649, 0.9496]])\n"
     ]
    },
    {
     "name": "stderr",
     "output_type": "stream",
     "text": [
      "/home/y_yin/anaconda3/envs/cpsl/lib/python3.11/site-packages/torch/functional.py:504: UserWarning: torch.meshgrid: in an upcoming release, it will be required to pass the indexing argument. (Triggered internally at /opt/conda/conda-bld/pytorch_1695392026823/work/aten/src/ATen/native/TensorShape.cpp:3526.)\n",
      "  return _VF.meshgrid(tensors, **kwargs)  # type: ignore[attr-defined]\n"
     ]
    }
   ],
   "source": [
    "import numpy as np\n",
    "import torch\n",
    "a = torch.rand((4,4))\n",
    "idx = torch.tensor([0, 2, 1])\n",
    "idx_mesh_col, idx_mesh_row = torch.meshgrid(idx, idx)\n",
    "print(a)\n",
    "sub_a = a[idx,idx]\n",
    "print(sub_a)\n",
    "sub_a = a[idx_mesh_row,idx_mesh_col]\n",
    "print(sub_a)"
   ]
  },
  {
   "cell_type": "code",
   "execution_count": 13,
   "metadata": {},
   "outputs": [
    {
     "data": {
      "text/plain": [
       "tensor([[0, 2, 1],\n",
       "        [0, 2, 1],\n",
       "        [0, 2, 1]])"
      ]
     },
     "execution_count": 13,
     "metadata": {},
     "output_type": "execute_result"
    }
   ],
   "source": [
    "idx_mesh_row"
   ]
  }
 ],
 "metadata": {
  "kernelspec": {
   "display_name": "cpsl",
   "language": "python",
   "name": "python3"
  },
  "language_info": {
   "codemirror_mode": {
    "name": "ipython",
    "version": 3
   },
   "file_extension": ".py",
   "mimetype": "text/x-python",
   "name": "python",
   "nbconvert_exporter": "python",
   "pygments_lexer": "ipython3",
   "version": "3.11.5"
  }
 },
 "nbformat": 4,
 "nbformat_minor": 2
}
