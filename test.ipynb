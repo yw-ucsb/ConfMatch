{
 "cells": [
  {
   "cell_type": "code",
   "execution_count": 1,
   "metadata": {},
   "outputs": [
    {
     "name": "stdout",
     "output_type": "stream",
     "text": [
      "tensor([[0.3126, 0.0307, 0.0832, 0.0352],\n",
      "        [0.2442, 0.6509, 0.6058, 0.2858],\n",
      "        [0.4861, 0.7679, 0.6305, 0.0835],\n",
      "        [0.1729, 0.2227, 0.6769, 0.0482]])\n",
      "tensor([0.3126, 0.6305, 0.6509])\n",
      "tensor([[0.3126, 0.4861, 0.2442],\n",
      "        [0.0832, 0.6305, 0.6058],\n",
      "        [0.0307, 0.7679, 0.6509]])\n"
     ]
    },
    {
     "name": "stderr",
     "output_type": "stream",
     "text": [
      "/home/y_yin/anaconda3/envs/cpsl/lib/python3.11/site-packages/torch/functional.py:504: UserWarning: torch.meshgrid: in an upcoming release, it will be required to pass the indexing argument. (Triggered internally at /opt/conda/conda-bld/pytorch_1695392026823/work/aten/src/ATen/native/TensorShape.cpp:3526.)\n",
      "  return _VF.meshgrid(tensors, **kwargs)  # type: ignore[attr-defined]\n"
     ]
    }
   ],
   "source": [
    "import numpy as np\n",
    "import torch\n",
    "a = torch.rand((4,4))\n",
    "idx = torch.tensor([0, 2, 1])\n",
    "idx_mesh_col, idx_mesh_row = torch.meshgrid(idx, idx)\n",
    "print(a)\n",
    "sub_a = a[idx,idx]\n",
    "print(sub_a)\n",
    "sub_a = a[idx_mesh_row,idx_mesh_col]\n",
    "print(sub_a)"
   ]
  },
  {
   "cell_type": "code",
   "execution_count": 5,
   "metadata": {},
   "outputs": [
    {
     "data": {
      "text/plain": [
       "tensor([[1, 0],\n",
       "        [0, 1]], dtype=torch.int32)"
      ]
     },
     "execution_count": 5,
     "metadata": {},
     "output_type": "execute_result"
    }
   ],
   "source": [
    "a = torch.tensor([[0,1],[1,0]])\n",
    "b = torch.tensor([[0,0],[0,0]])\n",
    "(a == b).int()"
   ]
  }
 ],
 "metadata": {
  "kernelspec": {
   "display_name": "cpsl",
   "language": "python",
   "name": "python3"
  },
  "language_info": {
   "codemirror_mode": {
    "name": "ipython",
    "version": 3
   },
   "file_extension": ".py",
   "mimetype": "text/x-python",
   "name": "python",
   "nbconvert_exporter": "python",
   "pygments_lexer": "ipython3",
   "version": "3.11.5"
  }
 },
 "nbformat": 4,
 "nbformat_minor": 2
}
