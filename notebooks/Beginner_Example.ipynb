{
 "cells": [
  {
   "cell_type": "markdown",
   "metadata": {
    "collapsed": true,
    "pycharm": {
     "name": "#%% md\n"
    }
   },
   "source": [
    "# Getting started with our ultimate beginner guide!"
   ]
  },
  {
   "cell_type": "markdown",
   "metadata": {
    "collapsed": false,
    "pycharm": {
     "name": "#%% md\n"
    }
   },
   "source": [
    "## This tutorial will walk you through the basics of using the `usb` lighting package. Let's get started by training a FixMatch model on CIFAR-10!"
   ]
  },
  {
   "cell_type": "code",
   "execution_count": 5,
   "metadata": {
    "collapsed": false,
    "pycharm": {
     "name": "#%%\n"
    }
   },
   "outputs": [],
   "source": [
    "import sys\n",
    "sys.path.append('../')\n",
    "\n",
    "from semilearn import get_dataset, get_data_loader, get_net_builder, get_algorithm, get_config, Trainer\n"
   ]
  },
  {
   "cell_type": "markdown",
   "metadata": {
    "collapsed": false,
    "pycharm": {
     "name": "#%% md\n"
    }
   },
   "source": [
    "## Step 1: define configs and create config"
   ]
  },
  {
   "cell_type": "code",
   "execution_count": 6,
   "metadata": {
    "collapsed": false,
    "pycharm": {
     "name": "#%%\n"
    }
   },
   "outputs": [],
   "source": [
    "config = {\n",
    "    'algorithm': 'fixmatch',\n",
    "    'net': 'vit_tiny_patch2_32',\n",
    "    'use_pretrain': True, \n",
    "    'pretrain_path': 'https://github.com/microsoft/Semi-supervised-learning/releases/download/v.0.0.0/vit_tiny_patch2_32_mlp_im_1k_32.pth',\n",
    "\n",
    "    # optimization configs\n",
    "    'epoch': 1,  \n",
    "    'num_train_iter': 5000,  \n",
    "    'num_eval_iter': 500,  \n",
    "    'num_log_iter': 50,  \n",
    "    'optim': 'AdamW',\n",
    "    'lr': 5e-4,\n",
    "    'layer_decay': 0.5,\n",
    "    'batch_size': 16,\n",
    "    'eval_batch_size': 16,\n",
    "\n",
    "\n",
    "    # dataset configs\n",
    "    'dataset': 'cifar10',\n",
    "    'num_labels': 40,\n",
    "    'num_classes': 10,\n",
    "    'img_size': 32,\n",
    "    'crop_ratio': 0.875,\n",
    "    'data_dir': '/data/datasets',\n",
    "    'ulb_samples_per_class': None,\n",
    "\n",
    "    # algorithm specific configs\n",
    "    'hard_label': True,\n",
    "    'uratio': 2,\n",
    "    'ulb_loss_ratio': 1.0,\n",
    "\n",
    "    # device configs\n",
    "    'gpu': 0,\n",
    "    'world_size': 1,\n",
    "    'distributed': False,\n",
    "    \"num_workers\": 2,\n",
    "}\n",
    "config = get_config(config)"
   ]
  },
  {
   "cell_type": "markdown",
   "metadata": {
    "collapsed": false,
    "pycharm": {
     "name": "#%% md\n"
    }
   },
   "source": [
    "## Step 2: create model and specify algorithm"
   ]
  },
  {
   "cell_type": "code",
   "execution_count": 8,
   "metadata": {
    "collapsed": false,
    "pycharm": {
     "name": "#%%\n"
    }
   },
   "outputs": [
    {
     "name": "stdout",
     "output_type": "stream",
     "text": [
      "Files already downloaded and verified\n",
      "lb count: [4, 4, 4, 4, 4, 4, 4, 4, 4, 4]\n",
      "ulb count: [5000, 5000, 5000, 5000, 5000, 5000, 5000, 5000, 5000, 5000]\n",
      "Files already downloaded and verified\n",
      "unlabeled data number: 50000, labeled data number 40\n",
      "Create train and test data loaders\n",
      "[!] data loader keys: dict_keys(['train_lb', 'train_ulb', 'eval'])\n"
     ]
    },
    {
     "name": "stderr",
     "output_type": "stream",
     "text": [
      "Downloading: \"https://github.com/microsoft/Semi-supervised-learning/releases/download/v.0.0.0/vit_tiny_patch2_32_mlp_im_1k_32.pth\" to /home/y_yin/.cache/torch/hub/checkpoints/vit_tiny_patch2_32_mlp_im_1k_32.pth\n",
      "100%|██████████| 115M/115M [00:01<00:00, 74.8MB/s] \n"
     ]
    },
    {
     "name": "stdout",
     "output_type": "stream",
     "text": [
      "_IncompatibleKeys(missing_keys=['head.weight', 'head.bias'], unexpected_keys=[])\n",
      "Create optimizer and scheduler\n"
     ]
    }
   ],
   "source": [
    "algorithm = get_algorithm(config,  get_net_builder(config.net, from_name=False), tb_log=None, logger=None)"
   ]
  },
  {
   "cell_type": "markdown",
   "metadata": {
    "collapsed": false,
    "pycharm": {
     "name": "#%% md\n"
    }
   },
   "source": [
    "## Step 3: create dataset"
   ]
  },
  {
   "cell_type": "code",
   "execution_count": 9,
   "metadata": {
    "collapsed": false,
    "pycharm": {
     "name": "#%%\n"
    }
   },
   "outputs": [
    {
     "name": "stdout",
     "output_type": "stream",
     "text": [
      "Files already downloaded and verified\n",
      "lb count: [4, 4, 4, 4, 4, 4, 4, 4, 4, 4]\n",
      "ulb count: [5000, 5000, 5000, 5000, 5000, 5000, 5000, 5000, 5000, 5000]\n",
      "Files already downloaded and verified\n"
     ]
    }
   ],
   "source": [
    "dataset_dict = get_dataset(config, config.algorithm, config.dataset, config.num_labels, config.num_classes, data_dir=config.data_dir, include_lb_to_ulb=config.include_lb_to_ulb)\n",
    "train_lb_loader = get_data_loader(config, dataset_dict['train_lb'], config.batch_size)\n",
    "train_ulb_loader = get_data_loader(config, dataset_dict['train_ulb'], int(config.batch_size * config.uratio))\n",
    "eval_loader = get_data_loader(config, dataset_dict['eval'], config.eval_batch_size)"
   ]
  },
  {
   "cell_type": "markdown",
   "metadata": {
    "collapsed": false,
    "pycharm": {
     "name": "#%% md\n"
    }
   },
   "source": [
    "## Step 4: train"
   ]
  },
  {
   "cell_type": "code",
   "execution_count": 10,
   "metadata": {
    "collapsed": false,
    "pycharm": {
     "name": "#%%\n"
    }
   },
   "outputs": [
    {
     "name": "stdout",
     "output_type": "stream",
     "text": [
      "Epoch: 0\n",
      "50 iteration USE_EMA: True, train/sup_loss: 2.3363, train/unsup_loss: 0.0000, train/total_loss: 2.3363, train/util_ratio: 0.0000, train/run_time: 0.2223, lr: 0.0005, train/prefetch_time: 0.0021 \n",
      "100 iteration USE_EMA: True, train/sup_loss: 1.2222, train/unsup_loss: 0.0000, train/total_loss: 1.2222, train/util_ratio: 0.0000, train/run_time: 0.1553, lr: 0.0005, train/prefetch_time: 0.0024 \n",
      "150 iteration USE_EMA: True, train/sup_loss: 0.5054, train/unsup_loss: 0.0000, train/total_loss: 0.5054, train/util_ratio: 0.0000, train/run_time: 0.2114, lr: 0.0005, train/prefetch_time: 0.0024 \n",
      "200 iteration USE_EMA: True, train/sup_loss: 0.3123, train/unsup_loss: 0.0000, train/total_loss: 0.3123, train/util_ratio: 0.0000, train/run_time: 0.2250, lr: 0.0005, train/prefetch_time: 0.0022 \n",
      "250 iteration USE_EMA: True, train/sup_loss: 0.3571, train/unsup_loss: 0.0000, train/total_loss: 0.3571, train/util_ratio: 0.0000, train/run_time: 0.2235, lr: 0.0005, train/prefetch_time: 0.0025 \n",
      "300 iteration USE_EMA: True, train/sup_loss: 0.0561, train/unsup_loss: 0.1188, train/total_loss: 0.1749, train/util_ratio: 0.1562, train/run_time: 0.1512, lr: 0.0005, train/prefetch_time: 0.0025 \n",
      "350 iteration USE_EMA: True, train/sup_loss: 0.2034, train/unsup_loss: 0.0092, train/total_loss: 0.2126, train/util_ratio: 0.1250, train/run_time: 0.2089, lr: 0.0005, train/prefetch_time: 0.0022 \n",
      "400 iteration USE_EMA: True, train/sup_loss: 0.0175, train/unsup_loss: 0.0172, train/total_loss: 0.0347, train/util_ratio: 0.0938, train/run_time: 0.2225, lr: 0.0005, train/prefetch_time: 0.0028 \n",
      "450 iteration USE_EMA: True, train/sup_loss: 0.0562, train/unsup_loss: 0.0581, train/total_loss: 0.1142, train/util_ratio: 0.2812, train/run_time: 0.0946, lr: 0.0005, train/prefetch_time: 0.0021 \n",
      "validating...\n"
     ]
    },
    {
     "name": "stderr",
     "output_type": "stream",
     "text": [
      "/home/y_yin/anaconda3/envs/cpsl/lib/python3.11/site-packages/sklearn/metrics/_classification.py:1469: UndefinedMetricWarning: Precision is ill-defined and being set to 0.0 in labels with no predicted samples. Use `zero_division` parameter to control this behavior.\n",
      "  _warn_prf(average, modifier, msg_start, len(result))\n"
     ]
    },
    {
     "name": "stdout",
     "output_type": "stream",
     "text": [
      "confusion matrix:\n",
      "[[0.    0.    0.    0.    0.    0.88  0.    0.12  0.    0.   ]\n",
      " [0.    0.    0.    0.    0.    1.    0.    0.    0.    0.   ]\n",
      " [0.    0.    0.    0.    0.    0.979 0.    0.021 0.    0.   ]\n",
      " [0.    0.    0.    0.    0.    0.985 0.    0.015 0.    0.   ]\n",
      " [0.    0.    0.    0.    0.    0.965 0.    0.035 0.    0.   ]\n",
      " [0.    0.    0.    0.    0.    0.996 0.    0.004 0.    0.   ]\n",
      " [0.    0.    0.    0.    0.    0.993 0.    0.007 0.    0.   ]\n",
      " [0.    0.    0.    0.    0.    0.494 0.    0.506 0.    0.   ]\n",
      " [0.    0.    0.    0.    0.    0.979 0.    0.021 0.    0.   ]\n",
      " [0.    0.    0.    0.    0.    0.986 0.    0.014 0.    0.   ]]\n",
      "model saved: ./saved_models/fixmatch/latest_model.pth\n",
      "model saved: ./saved_models/fixmatch/model_best.pth\n",
      "500 iteration, USE_EMA: True, train/sup_loss: 0.0190, train/unsup_loss: 0.0228, train/total_loss: 0.0419, train/util_ratio: 0.1562, train/run_time: 0.1993, eval/loss: 6.1640, eval/top-1-acc: 0.1502, eval/balanced_acc: 0.1502, eval/precision: 0.0789, eval/recall: 0.1502, eval/F1: 0.0775, lr: 0.0005, train/prefetch_time: 0.0029 BEST_EVAL_ACC: 0.1502, at 500 iters\n",
      "550 iteration USE_EMA: True, train/sup_loss: 0.0478, train/unsup_loss: 0.0666, train/total_loss: 0.1144, train/util_ratio: 0.3750, train/run_time: 0.2242, lr: 0.0005, train/prefetch_time: 0.0024 \n",
      "600 iteration USE_EMA: True, train/sup_loss: 0.0099, train/unsup_loss: 0.2155, train/total_loss: 0.2255, train/util_ratio: 0.4375, train/run_time: 0.1559, lr: 0.0005, train/prefetch_time: 0.0023 \n",
      "650 iteration USE_EMA: True, train/sup_loss: 0.0171, train/unsup_loss: 0.1200, train/total_loss: 0.1372, train/util_ratio: 0.5000, train/run_time: 0.2152, lr: 0.0005, train/prefetch_time: 0.0025 \n",
      "700 iteration USE_EMA: True, train/sup_loss: 0.0371, train/unsup_loss: 0.0382, train/total_loss: 0.0752, train/util_ratio: 0.2812, train/run_time: 0.2199, lr: 0.0005, train/prefetch_time: 0.0026 \n",
      "750 iteration USE_EMA: True, train/sup_loss: 0.0019, train/unsup_loss: 0.4087, train/total_loss: 0.4106, train/util_ratio: 0.5625, train/run_time: 0.2250, lr: 0.0005, train/prefetch_time: 0.0020 \n",
      "800 iteration USE_EMA: True, train/sup_loss: 0.0161, train/unsup_loss: 0.1211, train/total_loss: 0.1372, train/util_ratio: 0.5312, train/run_time: 0.1496, lr: 0.0005, train/prefetch_time: 0.0023 \n",
      "850 iteration USE_EMA: True, train/sup_loss: 0.0028, train/unsup_loss: 0.1492, train/total_loss: 0.1520, train/util_ratio: 0.4688, train/run_time: 0.1960, lr: 0.0005, train/prefetch_time: 0.0024 \n",
      "900 iteration USE_EMA: True, train/sup_loss: 0.0093, train/unsup_loss: 0.2368, train/total_loss: 0.2461, train/util_ratio: 0.5000, train/run_time: 0.1206, lr: 0.0005, train/prefetch_time: 0.0024 \n",
      "950 iteration USE_EMA: True, train/sup_loss: 0.0063, train/unsup_loss: 0.2387, train/total_loss: 0.2450, train/util_ratio: 0.5312, train/run_time: 0.2257, lr: 0.0005, train/prefetch_time: 0.0022 \n",
      "validating...\n"
     ]
    },
    {
     "name": "stderr",
     "output_type": "stream",
     "text": [
      "/home/y_yin/anaconda3/envs/cpsl/lib/python3.11/site-packages/sklearn/metrics/_classification.py:1469: UndefinedMetricWarning: Precision is ill-defined and being set to 0.0 in labels with no predicted samples. Use `zero_division` parameter to control this behavior.\n",
      "  _warn_prf(average, modifier, msg_start, len(result))\n"
     ]
    },
    {
     "name": "stdout",
     "output_type": "stream",
     "text": [
      "confusion matrix:\n",
      "[[0.001 0.    0.    0.    0.    0.464 0.    0.467 0.068 0.   ]\n",
      " [0.    0.151 0.    0.    0.    0.773 0.    0.015 0.061 0.   ]\n",
      " [0.    0.    0.019 0.    0.    0.791 0.001 0.189 0.    0.   ]\n",
      " [0.    0.    0.    0.    0.    0.884 0.001 0.113 0.002 0.   ]\n",
      " [0.    0.    0.    0.    0.    0.355 0.    0.645 0.    0.   ]\n",
      " [0.    0.    0.    0.    0.    0.954 0.    0.046 0.    0.   ]\n",
      " [0.    0.    0.001 0.    0.    0.421 0.551 0.025 0.002 0.   ]\n",
      " [0.    0.    0.    0.    0.    0.075 0.    0.925 0.    0.   ]\n",
      " [0.    0.    0.    0.    0.    0.528 0.    0.085 0.387 0.   ]\n",
      " [0.    0.002 0.    0.    0.    0.749 0.    0.079 0.159 0.011]]\n",
      "model saved: ./saved_models/fixmatch/latest_model.pth\n",
      "model saved: ./saved_models/fixmatch/model_best.pth\n",
      "1000 iteration, USE_EMA: True, train/sup_loss: 0.0079, train/unsup_loss: 0.4744, train/total_loss: 0.4822, train/util_ratio: 0.7188, train/run_time: 0.2148, eval/loss: 2.5447, eval/top-1-acc: 0.2999, eval/balanced_acc: 0.2999, eval/precision: 0.6020, eval/recall: 0.2999, eval/F1: 0.2282, lr: 0.0005, train/prefetch_time: 0.0022 BEST_EVAL_ACC: 0.2999, at 1000 iters\n",
      "1050 iteration USE_EMA: True, train/sup_loss: 0.0180, train/unsup_loss: 0.1706, train/total_loss: 0.1887, train/util_ratio: 0.5938, train/run_time: 0.1649, lr: 0.0005, train/prefetch_time: 0.0025 \n",
      "1100 iteration USE_EMA: True, train/sup_loss: 0.0021, train/unsup_loss: 0.2822, train/total_loss: 0.2843, train/util_ratio: 0.5312, train/run_time: 0.2234, lr: 0.0005, train/prefetch_time: 0.0026 \n",
      "1150 iteration USE_EMA: True, train/sup_loss: 0.0873, train/unsup_loss: 0.0523, train/total_loss: 0.1396, train/util_ratio: 0.6562, train/run_time: 0.1549, lr: 0.0005, train/prefetch_time: 0.0022 \n",
      "1200 iteration USE_EMA: True, train/sup_loss: 0.0205, train/unsup_loss: 0.1644, train/total_loss: 0.1848, train/util_ratio: 0.6250, train/run_time: 0.2123, lr: 0.0005, train/prefetch_time: 0.0024 \n",
      "1250 iteration USE_EMA: True, train/sup_loss: 0.0255, train/unsup_loss: 0.2335, train/total_loss: 0.2589, train/util_ratio: 0.7500, train/run_time: 0.2203, lr: 0.0005, train/prefetch_time: 0.0025 \n",
      "1300 iteration USE_EMA: True, train/sup_loss: 0.0590, train/unsup_loss: 0.0535, train/total_loss: 0.1125, train/util_ratio: 0.8125, train/run_time: 0.2233, lr: 0.0005, train/prefetch_time: 0.0024 \n",
      "1350 iteration USE_EMA: True, train/sup_loss: 0.0220, train/unsup_loss: 0.1877, train/total_loss: 0.2097, train/util_ratio: 0.7188, train/run_time: 0.1493, lr: 0.0005, train/prefetch_time: 0.0023 \n",
      "1400 iteration USE_EMA: True, train/sup_loss: 0.0023, train/unsup_loss: 0.3141, train/total_loss: 0.3164, train/util_ratio: 0.7188, train/run_time: 0.1941, lr: 0.0005, train/prefetch_time: 0.0023 \n",
      "1450 iteration USE_EMA: True, train/sup_loss: 0.0166, train/unsup_loss: 0.1652, train/total_loss: 0.1818, train/util_ratio: 0.6562, train/run_time: 0.1177, lr: 0.0005, train/prefetch_time: 0.0023 \n",
      "validating...\n",
      "confusion matrix:\n",
      "[[0.678 0.007 0.016 0.    0.    0.069 0.002 0.059 0.156 0.013]\n",
      " [0.    0.98  0.    0.    0.    0.003 0.    0.    0.005 0.012]\n",
      " [0.008 0.    0.744 0.    0.002 0.122 0.017 0.105 0.002 0.   ]\n",
      " [0.004 0.    0.012 0.4   0.001 0.474 0.025 0.077 0.007 0.   ]\n",
      " [0.    0.    0.012 0.    0.403 0.084 0.008 0.491 0.002 0.   ]\n",
      " [0.    0.    0.    0.001 0.    0.947 0.    0.052 0.    0.   ]\n",
      " [0.001 0.    0.003 0.    0.    0.01  0.985 0.    0.001 0.   ]\n",
      " [0.004 0.    0.002 0.    0.    0.054 0.    0.94  0.    0.   ]\n",
      " [0.001 0.008 0.001 0.    0.    0.024 0.    0.003 0.962 0.001]\n",
      " [0.003 0.036 0.    0.    0.    0.004 0.    0.002 0.034 0.921]]\n",
      "model saved: ./saved_models/fixmatch/latest_model.pth\n",
      "model saved: ./saved_models/fixmatch/model_best.pth\n",
      "1500 iteration, USE_EMA: True, train/sup_loss: 0.0072, train/unsup_loss: 0.2561, train/total_loss: 0.2633, train/util_ratio: 0.6875, train/run_time: 0.2245, eval/loss: 0.6368, eval/top-1-acc: 0.7960, eval/balanced_acc: 0.7960, eval/precision: 0.8670, eval/recall: 0.7960, eval/F1: 0.7906, lr: 0.0005, train/prefetch_time: 0.0022 BEST_EVAL_ACC: 0.7960, at 1500 iters\n",
      "1550 iteration USE_EMA: True, train/sup_loss: 0.1356, train/unsup_loss: 0.0857, train/total_loss: 0.2213, train/util_ratio: 0.5938, train/run_time: 0.1538, lr: 0.0005, train/prefetch_time: 0.0023 \n",
      "1600 iteration USE_EMA: True, train/sup_loss: 0.0092, train/unsup_loss: 0.0642, train/total_loss: 0.0734, train/util_ratio: 0.6875, train/run_time: 0.2107, lr: 0.0005, train/prefetch_time: 0.0022 \n",
      "1650 iteration USE_EMA: True, train/sup_loss: 0.0413, train/unsup_loss: 0.0854, train/total_loss: 0.1267, train/util_ratio: 0.8125, train/run_time: 0.2208, lr: 0.0004, train/prefetch_time: 0.0019 \n",
      "1700 iteration USE_EMA: True, train/sup_loss: 0.0097, train/unsup_loss: 0.0475, train/total_loss: 0.0572, train/util_ratio: 0.6875, train/run_time: 0.2245, lr: 0.0004, train/prefetch_time: 0.0020 \n",
      "1750 iteration USE_EMA: True, train/sup_loss: 0.0109, train/unsup_loss: 0.0765, train/total_loss: 0.0874, train/util_ratio: 0.6875, train/run_time: 0.1888, lr: 0.0004, train/prefetch_time: 0.0022 \n",
      "1800 iteration USE_EMA: True, train/sup_loss: 0.0014, train/unsup_loss: 0.2086, train/total_loss: 0.2100, train/util_ratio: 0.7188, train/run_time: 0.2226, lr: 0.0004, train/prefetch_time: 0.0023 \n",
      "1850 iteration USE_EMA: True, train/sup_loss: 0.0049, train/unsup_loss: 0.3951, train/total_loss: 0.4001, train/util_ratio: 0.8438, train/run_time: 0.2252, lr: 0.0004, train/prefetch_time: 0.0024 \n",
      "1900 iteration USE_EMA: True, train/sup_loss: 0.0011, train/unsup_loss: 0.2883, train/total_loss: 0.2894, train/util_ratio: 0.8750, train/run_time: 0.1568, lr: 0.0004, train/prefetch_time: 0.0023 \n",
      "1950 iteration USE_EMA: True, train/sup_loss: 0.0024, train/unsup_loss: 0.3310, train/total_loss: 0.3334, train/util_ratio: 0.5938, train/run_time: 0.2091, lr: 0.0004, train/prefetch_time: 0.0025 \n",
      "validating...\n",
      "confusion matrix:\n",
      "[[0.933 0.002 0.003 0.001 0.    0.003 0.002 0.002 0.038 0.016]\n",
      " [0.    0.988 0.    0.    0.    0.    0.    0.    0.    0.012]\n",
      " [0.023 0.    0.865 0.002 0.02  0.031 0.012 0.046 0.001 0.   ]\n",
      " [0.006 0.002 0.014 0.766 0.01  0.147 0.027 0.024 0.003 0.001]\n",
      " [0.    0.    0.015 0.01  0.846 0.01  0.003 0.115 0.001 0.   ]\n",
      " [0.    0.    0.006 0.011 0.003 0.931 0.    0.049 0.    0.   ]\n",
      " [0.003 0.    0.003 0.    0.    0.001 0.991 0.    0.001 0.001]\n",
      " [0.004 0.    0.005 0.002 0.004 0.042 0.    0.943 0.    0.   ]\n",
      " [0.005 0.006 0.001 0.    0.    0.001 0.    0.    0.984 0.003]\n",
      " [0.006 0.032 0.    0.    0.    0.    0.    0.    0.006 0.956]]\n",
      "model saved: ./saved_models/fixmatch/latest_model.pth\n",
      "model saved: ./saved_models/fixmatch/model_best.pth\n",
      "2000 iteration, USE_EMA: True, train/sup_loss: 0.0039, train/unsup_loss: 0.0781, train/total_loss: 0.0819, train/util_ratio: 0.5938, train/run_time: 0.2216, eval/loss: 0.2492, eval/top-1-acc: 0.9203, eval/balanced_acc: 0.9203, eval/precision: 0.9259, eval/recall: 0.9203, eval/F1: 0.9202, lr: 0.0004, train/prefetch_time: 0.0028 BEST_EVAL_ACC: 0.9203, at 2000 iters\n",
      "2050 iteration USE_EMA: True, train/sup_loss: 0.0366, train/unsup_loss: 0.0970, train/total_loss: 0.1336, train/util_ratio: 0.7812, train/run_time: 0.0955, lr: 0.0004, train/prefetch_time: 0.0025 \n",
      "2100 iteration USE_EMA: True, train/sup_loss: 0.0520, train/unsup_loss: 0.2774, train/total_loss: 0.3294, train/util_ratio: 0.8125, train/run_time: 0.1289, lr: 0.0004, train/prefetch_time: 0.0021 \n",
      "2150 iteration USE_EMA: True, train/sup_loss: 0.0105, train/unsup_loss: 0.2458, train/total_loss: 0.2563, train/util_ratio: 0.7500, train/run_time: 0.1752, lr: 0.0004, train/prefetch_time: 0.0024 \n",
      "2200 iteration USE_EMA: True, train/sup_loss: 0.0047, train/unsup_loss: 0.0919, train/total_loss: 0.0967, train/util_ratio: 0.6250, train/run_time: 0.0943, lr: 0.0004, train/prefetch_time: 0.0023 \n",
      "2250 iteration USE_EMA: True, train/sup_loss: 0.0020, train/unsup_loss: 0.3858, train/total_loss: 0.3878, train/util_ratio: 0.7188, train/run_time: 0.2223, lr: 0.0004, train/prefetch_time: 0.0024 \n",
      "2300 iteration USE_EMA: True, train/sup_loss: 0.0276, train/unsup_loss: 0.1660, train/total_loss: 0.1935, train/util_ratio: 0.9062, train/run_time: 0.1493, lr: 0.0004, train/prefetch_time: 0.0023 \n",
      "2350 iteration USE_EMA: True, train/sup_loss: 0.0039, train/unsup_loss: 0.2352, train/total_loss: 0.2391, train/util_ratio: 0.8125, train/run_time: 0.1998, lr: 0.0004, train/prefetch_time: 0.0022 \n",
      "2400 iteration USE_EMA: True, train/sup_loss: 0.0879, train/unsup_loss: 0.4141, train/total_loss: 0.5020, train/util_ratio: 0.8125, train/run_time: 0.1207, lr: 0.0004, train/prefetch_time: 0.0025 \n",
      "2450 iteration USE_EMA: True, train/sup_loss: 0.0012, train/unsup_loss: 0.1654, train/total_loss: 0.1666, train/util_ratio: 0.6875, train/run_time: 0.2260, lr: 0.0004, train/prefetch_time: 0.0024 \n",
      "validating...\n",
      "confusion matrix:\n",
      "[[0.955 0.002 0.002 0.001 0.    0.001 0.002 0.    0.024 0.013]\n",
      " [0.    0.987 0.    0.    0.    0.    0.    0.    0.    0.013]\n",
      " [0.033 0.    0.87  0.003 0.038 0.019 0.011 0.025 0.001 0.   ]\n",
      " [0.004 0.002 0.011 0.839 0.012 0.089 0.028 0.011 0.003 0.001]\n",
      " [0.    0.    0.006 0.01  0.929 0.002 0.005 0.047 0.001 0.   ]\n",
      " [0.    0.    0.006 0.027 0.008 0.921 0.001 0.037 0.    0.   ]\n",
      " [0.003 0.    0.003 0.    0.    0.001 0.991 0.    0.001 0.001]\n",
      " [0.005 0.    0.007 0.004 0.008 0.042 0.    0.934 0.    0.   ]\n",
      " [0.008 0.007 0.001 0.    0.    0.    0.    0.    0.981 0.003]\n",
      " [0.007 0.032 0.    0.    0.    0.    0.    0.    0.003 0.958]]\n",
      "model saved: ./saved_models/fixmatch/latest_model.pth\n",
      "model saved: ./saved_models/fixmatch/model_best.pth\n",
      "2500 iteration, USE_EMA: True, train/sup_loss: 0.0028, train/unsup_loss: 0.3571, train/total_loss: 0.3599, train/util_ratio: 0.7812, train/run_time: 0.2198, eval/loss: 0.1957, eval/top-1-acc: 0.9365, eval/balanced_acc: 0.9365, eval/precision: 0.9376, eval/recall: 0.9365, eval/F1: 0.9362, lr: 0.0004, train/prefetch_time: 0.0022 BEST_EVAL_ACC: 0.9365, at 2500 iters\n",
      "2550 iteration USE_EMA: True, train/sup_loss: 0.0061, train/unsup_loss: 0.1887, train/total_loss: 0.1948, train/util_ratio: 0.5625, train/run_time: 0.2177, lr: 0.0004, train/prefetch_time: 0.0026 \n",
      "2600 iteration USE_EMA: True, train/sup_loss: 0.0035, train/unsup_loss: 0.1143, train/total_loss: 0.1178, train/util_ratio: 0.8750, train/run_time: 0.2002, lr: 0.0004, train/prefetch_time: 0.0023 \n",
      "2650 iteration USE_EMA: True, train/sup_loss: 0.0087, train/unsup_loss: 0.0776, train/total_loss: 0.0863, train/util_ratio: 0.6875, train/run_time: 0.1202, lr: 0.0004, train/prefetch_time: 0.0025 \n",
      "2700 iteration USE_EMA: True, train/sup_loss: 0.0070, train/unsup_loss: 0.1402, train/total_loss: 0.1471, train/util_ratio: 0.8125, train/run_time: 0.2197, lr: 0.0004, train/prefetch_time: 0.0027 \n",
      "2750 iteration USE_EMA: True, train/sup_loss: 0.0098, train/unsup_loss: 0.2908, train/total_loss: 0.3006, train/util_ratio: 0.9062, train/run_time: 0.1523, lr: 0.0004, train/prefetch_time: 0.0022 \n",
      "2800 iteration USE_EMA: True, train/sup_loss: 0.0007, train/unsup_loss: 0.2533, train/total_loss: 0.2540, train/util_ratio: 0.7500, train/run_time: 0.2152, lr: 0.0004, train/prefetch_time: 0.0026 \n",
      "2850 iteration USE_EMA: True, train/sup_loss: 0.0134, train/unsup_loss: 0.1209, train/total_loss: 0.1343, train/util_ratio: 0.7188, train/run_time: 0.2276, lr: 0.0004, train/prefetch_time: 0.0023 \n",
      "2900 iteration USE_EMA: True, train/sup_loss: 0.0020, train/unsup_loss: 0.3481, train/total_loss: 0.3501, train/util_ratio: 0.8125, train/run_time: 0.2212, lr: 0.0003, train/prefetch_time: 0.0024 \n",
      "2950 iteration USE_EMA: True, train/sup_loss: 0.0859, train/unsup_loss: 0.1396, train/total_loss: 0.2255, train/util_ratio: 0.8125, train/run_time: 0.1527, lr: 0.0003, train/prefetch_time: 0.0024 \n",
      "validating...\n",
      "confusion matrix:\n",
      "[[0.959 0.001 0.002 0.001 0.    0.001 0.002 0.    0.021 0.013]\n",
      " [0.    0.987 0.    0.    0.    0.    0.    0.    0.    0.013]\n",
      " [0.037 0.    0.867 0.004 0.048 0.016 0.01  0.016 0.001 0.001]\n",
      " [0.004 0.002 0.011 0.859 0.011 0.075 0.025 0.01  0.002 0.001]\n",
      " [0.    0.    0.006 0.009 0.945 0.001 0.006 0.032 0.001 0.   ]\n",
      " [0.001 0.    0.008 0.039 0.008 0.915 0.001 0.028 0.    0.   ]\n",
      " [0.003 0.    0.003 0.    0.    0.001 0.991 0.    0.001 0.001]\n",
      " [0.004 0.    0.007 0.004 0.008 0.041 0.    0.935 0.    0.001]\n",
      " [0.009 0.006 0.001 0.    0.    0.    0.    0.    0.981 0.003]\n",
      " [0.007 0.031 0.    0.    0.    0.    0.    0.    0.003 0.959]]\n",
      "model saved: ./saved_models/fixmatch/latest_model.pth\n",
      "model saved: ./saved_models/fixmatch/model_best.pth\n",
      "3000 iteration, USE_EMA: True, train/sup_loss: 0.0012, train/unsup_loss: 0.1554, train/total_loss: 0.1566, train/util_ratio: 0.6250, train/run_time: 0.2065, eval/loss: 0.1858, eval/top-1-acc: 0.9398, eval/balanced_acc: 0.9398, eval/precision: 0.9403, eval/recall: 0.9398, eval/F1: 0.9395, lr: 0.0003, train/prefetch_time: 0.0023 BEST_EVAL_ACC: 0.9398, at 3000 iters\n",
      "3050 iteration USE_EMA: True, train/sup_loss: 0.0022, train/unsup_loss: 0.1255, train/total_loss: 0.1277, train/util_ratio: 0.7812, train/run_time: 0.1903, lr: 0.0003, train/prefetch_time: 0.0022 \n",
      "3100 iteration USE_EMA: True, train/sup_loss: 0.0030, train/unsup_loss: 0.1069, train/total_loss: 0.1099, train/util_ratio: 0.8125, train/run_time: 0.1907, lr: 0.0003, train/prefetch_time: 0.0023 \n",
      "3150 iteration USE_EMA: True, train/sup_loss: 0.0027, train/unsup_loss: 0.0296, train/total_loss: 0.0323, train/util_ratio: 0.7500, train/run_time: 0.2236, lr: 0.0003, train/prefetch_time: 0.0024 \n",
      "3200 iteration USE_EMA: True, train/sup_loss: 0.0002, train/unsup_loss: 0.0699, train/total_loss: 0.0701, train/util_ratio: 0.8125, train/run_time: 0.1495, lr: 0.0003, train/prefetch_time: 0.0024 \n",
      "3250 iteration USE_EMA: True, train/sup_loss: 0.0007, train/unsup_loss: 0.1522, train/total_loss: 0.1529, train/util_ratio: 0.9062, train/run_time: 0.2032, lr: 0.0003, train/prefetch_time: 0.0023 \n",
      "3300 iteration USE_EMA: True, train/sup_loss: 0.0563, train/unsup_loss: 0.1669, train/total_loss: 0.2231, train/util_ratio: 0.6875, train/run_time: 0.2210, lr: 0.0003, train/prefetch_time: 0.0030 \n",
      "3350 iteration USE_EMA: True, train/sup_loss: 0.0012, train/unsup_loss: 0.1340, train/total_loss: 0.1353, train/util_ratio: 0.7500, train/run_time: 0.2230, lr: 0.0003, train/prefetch_time: 0.0029 \n",
      "3400 iteration USE_EMA: True, train/sup_loss: 0.0550, train/unsup_loss: 0.2311, train/total_loss: 0.2861, train/util_ratio: 0.8125, train/run_time: 0.1541, lr: 0.0003, train/prefetch_time: 0.0021 \n",
      "3450 iteration USE_EMA: True, train/sup_loss: 0.0012, train/unsup_loss: 0.6487, train/total_loss: 0.6498, train/util_ratio: 0.8750, train/run_time: 0.2166, lr: 0.0003, train/prefetch_time: 0.0025 \n",
      "validating...\n",
      "confusion matrix:\n",
      "[[0.965 0.001 0.001 0.001 0.    0.001 0.002 0.    0.018 0.011]\n",
      " [0.    0.987 0.    0.    0.    0.    0.    0.    0.    0.013]\n",
      " [0.037 0.    0.877 0.004 0.05  0.013 0.009 0.009 0.    0.001]\n",
      " [0.005 0.002 0.007 0.879 0.011 0.069 0.021 0.003 0.002 0.001]\n",
      " [0.    0.    0.004 0.009 0.951 0.001 0.008 0.026 0.001 0.   ]\n",
      " [0.001 0.    0.009 0.044 0.009 0.911 0.001 0.025 0.    0.   ]\n",
      " [0.003 0.    0.003 0.    0.    0.001 0.991 0.    0.001 0.001]\n",
      " [0.006 0.    0.008 0.005 0.011 0.038 0.    0.932 0.    0.   ]\n",
      " [0.011 0.005 0.001 0.    0.    0.    0.    0.    0.98  0.003]\n",
      " [0.008 0.029 0.    0.    0.    0.    0.    0.    0.003 0.96 ]]\n",
      "model saved: ./saved_models/fixmatch/latest_model.pth\n",
      "model saved: ./saved_models/fixmatch/model_best.pth\n",
      "3500 iteration, USE_EMA: True, train/sup_loss: 0.0008, train/unsup_loss: 0.0960, train/total_loss: 0.0968, train/util_ratio: 0.7812, train/run_time: 0.2205, eval/loss: 0.1806, eval/top-1-acc: 0.9433, eval/balanced_acc: 0.9433, eval/precision: 0.9437, eval/recall: 0.9433, eval/F1: 0.9431, lr: 0.0003, train/prefetch_time: 0.0025 BEST_EVAL_ACC: 0.9433, at 3500 iters\n",
      "3550 iteration USE_EMA: True, train/sup_loss: 0.0011, train/unsup_loss: 0.2753, train/total_loss: 0.2763, train/util_ratio: 0.8125, train/run_time: 0.2233, lr: 0.0003, train/prefetch_time: 0.0024 \n",
      "3600 iteration USE_EMA: True, train/sup_loss: 0.0009, train/unsup_loss: 0.0567, train/total_loss: 0.0576, train/util_ratio: 0.6562, train/run_time: 0.1874, lr: 0.0003, train/prefetch_time: 0.0025 \n",
      "3650 iteration USE_EMA: True, train/sup_loss: 0.0018, train/unsup_loss: 0.1646, train/total_loss: 0.1665, train/util_ratio: 0.6875, train/run_time: 0.2244, lr: 0.0003, train/prefetch_time: 0.0021 \n",
      "3700 iteration USE_EMA: True, train/sup_loss: 0.0009, train/unsup_loss: 0.0152, train/total_loss: 0.0161, train/util_ratio: 0.6250, train/run_time: 0.2236, lr: 0.0003, train/prefetch_time: 0.0027 \n",
      "3750 iteration USE_EMA: True, train/sup_loss: 0.0588, train/unsup_loss: 0.2959, train/total_loss: 0.3547, train/util_ratio: 0.8438, train/run_time: 0.1514, lr: 0.0003, train/prefetch_time: 0.0024 \n",
      "3800 iteration USE_EMA: True, train/sup_loss: 0.0407, train/unsup_loss: 0.0945, train/total_loss: 0.1352, train/util_ratio: 0.7812, train/run_time: 0.1997, lr: 0.0003, train/prefetch_time: 0.0022 \n",
      "3850 iteration USE_EMA: True, train/sup_loss: 0.0201, train/unsup_loss: 0.0503, train/total_loss: 0.0703, train/util_ratio: 0.8125, train/run_time: 0.2189, lr: 0.0002, train/prefetch_time: 0.0019 \n",
      "3900 iteration USE_EMA: True, train/sup_loss: 0.0016, train/unsup_loss: 0.3362, train/total_loss: 0.3378, train/util_ratio: 0.7188, train/run_time: 0.2229, lr: 0.0002, train/prefetch_time: 0.0024 \n",
      "3950 iteration USE_EMA: True, train/sup_loss: 0.0033, train/unsup_loss: 0.4787, train/total_loss: 0.4821, train/util_ratio: 0.8125, train/run_time: 0.1547, lr: 0.0002, train/prefetch_time: 0.0029 \n",
      "validating...\n",
      "confusion matrix:\n",
      "[[0.968 0.001 0.001 0.001 0.    0.001 0.002 0.    0.015 0.011]\n",
      " [0.    0.987 0.    0.    0.    0.    0.    0.    0.    0.013]\n",
      " [0.038 0.    0.882 0.004 0.045 0.013 0.01  0.007 0.    0.001]\n",
      " [0.003 0.002 0.006 0.885 0.011 0.067 0.021 0.002 0.002 0.001]\n",
      " [0.    0.    0.004 0.008 0.952 0.001 0.009 0.025 0.001 0.   ]\n",
      " [0.002 0.    0.009 0.042 0.009 0.917 0.    0.021 0.    0.   ]\n",
      " [0.003 0.    0.003 0.002 0.    0.001 0.989 0.    0.001 0.001]\n",
      " [0.006 0.    0.008 0.005 0.011 0.038 0.    0.932 0.    0.   ]\n",
      " [0.011 0.005 0.001 0.    0.    0.    0.    0.    0.98  0.003]\n",
      " [0.008 0.026 0.    0.    0.    0.    0.    0.    0.003 0.963]]\n",
      "model saved: ./saved_models/fixmatch/latest_model.pth\n",
      "model saved: ./saved_models/fixmatch/model_best.pth\n",
      "4000 iteration, USE_EMA: True, train/sup_loss: 0.0007, train/unsup_loss: 0.1029, train/total_loss: 0.1036, train/util_ratio: 0.8750, train/run_time: 0.2100, eval/loss: 0.1737, eval/top-1-acc: 0.9455, eval/balanced_acc: 0.9455, eval/precision: 0.9459, eval/recall: 0.9455, eval/F1: 0.9453, lr: 0.0002, train/prefetch_time: 0.0020 BEST_EVAL_ACC: 0.9455, at 4000 iters\n",
      "4050 iteration USE_EMA: True, train/sup_loss: 0.0018, train/unsup_loss: 0.1977, train/total_loss: 0.1995, train/util_ratio: 0.8125, train/run_time: 0.1431, lr: 0.0002, train/prefetch_time: 0.0026 \n",
      "4100 iteration USE_EMA: True, train/sup_loss: 0.0237, train/unsup_loss: 0.3133, train/total_loss: 0.3371, train/util_ratio: 0.8750, train/run_time: 0.2075, lr: 0.0002, train/prefetch_time: 0.0023 \n",
      "4150 iteration USE_EMA: True, train/sup_loss: 0.0025, train/unsup_loss: 0.2675, train/total_loss: 0.2700, train/util_ratio: 0.8438, train/run_time: 0.2261, lr: 0.0002, train/prefetch_time: 0.0025 \n",
      "4200 iteration USE_EMA: True, train/sup_loss: 0.0009, train/unsup_loss: 0.1459, train/total_loss: 0.1468, train/util_ratio: 0.8125, train/run_time: 0.2245, lr: 0.0002, train/prefetch_time: 0.0022 \n",
      "4250 iteration USE_EMA: True, train/sup_loss: 0.0002, train/unsup_loss: 0.2262, train/total_loss: 0.2264, train/util_ratio: 0.8125, train/run_time: 0.1531, lr: 0.0002, train/prefetch_time: 0.0026 \n",
      "4300 iteration USE_EMA: True, train/sup_loss: 0.0021, train/unsup_loss: 0.2973, train/total_loss: 0.2994, train/util_ratio: 0.7812, train/run_time: 0.2023, lr: 0.0002, train/prefetch_time: 0.0023 \n",
      "4350 iteration USE_EMA: True, train/sup_loss: 0.0060, train/unsup_loss: 0.1632, train/total_loss: 0.1692, train/util_ratio: 0.7500, train/run_time: 0.1169, lr: 0.0002, train/prefetch_time: 0.0029 \n",
      "4400 iteration USE_EMA: True, train/sup_loss: 0.0022, train/unsup_loss: 0.1256, train/total_loss: 0.1279, train/util_ratio: 0.8438, train/run_time: 0.2191, lr: 0.0002, train/prefetch_time: 0.0026 \n",
      "4450 iteration USE_EMA: True, train/sup_loss: 0.0167, train/unsup_loss: 0.1870, train/total_loss: 0.2038, train/util_ratio: 0.7812, train/run_time: 0.1465, lr: 0.0002, train/prefetch_time: 0.0021 \n",
      "validating...\n",
      "confusion matrix:\n",
      "[[0.972 0.001 0.001 0.001 0.    0.001 0.002 0.    0.013 0.009]\n",
      " [0.    0.988 0.    0.    0.    0.    0.    0.    0.    0.012]\n",
      " [0.039 0.    0.894 0.004 0.038 0.011 0.008 0.005 0.    0.001]\n",
      " [0.003 0.002 0.006 0.89  0.012 0.063 0.02  0.001 0.002 0.001]\n",
      " [0.    0.    0.004 0.008 0.954 0.001 0.009 0.023 0.001 0.   ]\n",
      " [0.002 0.    0.009 0.043 0.009 0.919 0.    0.018 0.    0.   ]\n",
      " [0.003 0.    0.004 0.002 0.    0.001 0.988 0.    0.001 0.001]\n",
      " [0.007 0.    0.008 0.004 0.01  0.032 0.    0.939 0.    0.   ]\n",
      " [0.014 0.005 0.001 0.    0.    0.    0.    0.    0.977 0.003]\n",
      " [0.008 0.025 0.    0.    0.    0.    0.    0.    0.003 0.964]]\n",
      "model saved: ./saved_models/fixmatch/latest_model.pth\n",
      "model saved: ./saved_models/fixmatch/model_best.pth\n",
      "4500 iteration, USE_EMA: True, train/sup_loss: 0.0165, train/unsup_loss: 0.0420, train/total_loss: 0.0585, train/util_ratio: 0.8125, train/run_time: 0.2119, eval/loss: 0.1676, eval/top-1-acc: 0.9485, eval/balanced_acc: 0.9485, eval/precision: 0.9488, eval/recall: 0.9485, eval/F1: 0.9483, lr: 0.0002, train/prefetch_time: 0.0026 BEST_EVAL_ACC: 0.9485, at 4500 iters\n",
      "4550 iteration USE_EMA: True, train/sup_loss: 0.0008, train/unsup_loss: 0.2045, train/total_loss: 0.2054, train/util_ratio: 0.8438, train/run_time: 0.2215, lr: 0.0002, train/prefetch_time: 0.0024 \n",
      "4600 iteration USE_EMA: True, train/sup_loss: 0.0011, train/unsup_loss: 0.1166, train/total_loss: 0.1177, train/util_ratio: 0.7188, train/run_time: 0.2234, lr: 0.0002, train/prefetch_time: 0.0025 \n",
      "4650 iteration USE_EMA: True, train/sup_loss: 0.0008, train/unsup_loss: 0.1441, train/total_loss: 0.1448, train/util_ratio: 0.7188, train/run_time: 0.1469, lr: 0.0001, train/prefetch_time: 0.0022 \n",
      "4700 iteration USE_EMA: True, train/sup_loss: 0.0002, train/unsup_loss: 0.2526, train/total_loss: 0.2528, train/util_ratio: 0.8125, train/run_time: 0.2007, lr: 0.0001, train/prefetch_time: 0.0027 \n",
      "4750 iteration USE_EMA: True, train/sup_loss: 0.0395, train/unsup_loss: 0.3950, train/total_loss: 0.4346, train/util_ratio: 0.8750, train/run_time: 0.1199, lr: 0.0001, train/prefetch_time: 0.0024 \n",
      "4800 iteration USE_EMA: True, train/sup_loss: 0.0008, train/unsup_loss: 0.0975, train/total_loss: 0.0983, train/util_ratio: 0.7188, train/run_time: 0.2250, lr: 0.0001, train/prefetch_time: 0.0023 \n",
      "4850 iteration USE_EMA: True, train/sup_loss: 0.0115, train/unsup_loss: 0.1029, train/total_loss: 0.1144, train/util_ratio: 0.8438, train/run_time: 0.2157, lr: 0.0001, train/prefetch_time: 0.0024 \n",
      "4900 iteration USE_EMA: True, train/sup_loss: 0.0282, train/unsup_loss: 0.3724, train/total_loss: 0.4006, train/util_ratio: 0.7812, train/run_time: 0.1872, lr: 0.0001, train/prefetch_time: 0.0023 \n",
      "4950 iteration USE_EMA: True, train/sup_loss: 0.0006, train/unsup_loss: 0.1909, train/total_loss: 0.1915, train/util_ratio: 0.8125, train/run_time: 0.1987, lr: 0.0001, train/prefetch_time: 0.0022 \n",
      "validating...\n",
      "confusion matrix:\n",
      "[[0.969 0.001 0.001 0.001 0.    0.001 0.001 0.    0.016 0.01 ]\n",
      " [0.    0.987 0.    0.    0.    0.    0.    0.    0.    0.013]\n",
      " [0.039 0.    0.904 0.004 0.03  0.009 0.008 0.005 0.    0.001]\n",
      " [0.003 0.002 0.007 0.891 0.012 0.062 0.019 0.001 0.002 0.001]\n",
      " [0.    0.    0.004 0.007 0.954 0.    0.009 0.025 0.001 0.   ]\n",
      " [0.002 0.    0.009 0.04  0.009 0.92  0.    0.02  0.    0.   ]\n",
      " [0.003 0.    0.004 0.002 0.    0.001 0.988 0.    0.001 0.001]\n",
      " [0.007 0.    0.008 0.003 0.009 0.031 0.    0.942 0.    0.   ]\n",
      " [0.013 0.005 0.001 0.    0.    0.    0.    0.    0.978 0.003]\n",
      " [0.007 0.025 0.    0.    0.    0.    0.    0.    0.003 0.965]]\n",
      "model saved: ./saved_models/fixmatch/latest_model.pth\n",
      "model saved: ./saved_models/fixmatch/model_best.pth\n",
      "5000 iteration, USE_EMA: True, train/sup_loss: 0.0027, train/unsup_loss: 0.1716, train/total_loss: 0.1743, train/util_ratio: 0.7500, train/run_time: 0.2198, eval/loss: 0.1625, eval/top-1-acc: 0.9498, eval/balanced_acc: 0.9498, eval/precision: 0.9500, eval/recall: 0.9498, eval/F1: 0.9497, lr: 0.0001, train/prefetch_time: 0.0023 BEST_EVAL_ACC: 0.9498, at 5000 iters\n"
     ]
    },
    {
     "name": "stderr",
     "output_type": "stream",
     "text": [
      "[2023-10-24 00:57:11,708 INFO] confusion matrix\n",
      "[2023-10-24 00:57:11,709 INFO] [[0.97  0.001 0.001 0.001 0.    0.    0.001 0.    0.016 0.01 ]\n",
      " [0.    0.986 0.    0.    0.    0.    0.    0.    0.    0.014]\n",
      " [0.043 0.    0.909 0.004 0.021 0.009 0.01  0.004 0.    0.   ]\n",
      " [0.003 0.002 0.005 0.908 0.009 0.049 0.019 0.002 0.002 0.001]\n",
      " [0.    0.    0.005 0.006 0.949 0.    0.01  0.029 0.001 0.   ]\n",
      " [0.002 0.    0.009 0.049 0.007 0.91  0.002 0.021 0.    0.   ]\n",
      " [0.003 0.    0.003 0.002 0.    0.001 0.989 0.    0.001 0.001]\n",
      " [0.008 0.    0.008 0.003 0.007 0.025 0.    0.948 0.    0.001]\n",
      " [0.013 0.005 0.001 0.    0.    0.    0.    0.    0.978 0.003]\n",
      " [0.007 0.023 0.    0.    0.    0.    0.    0.    0.003 0.967]]\n",
      "[2023-10-24 00:57:11,710 INFO] evaluation metric\n",
      "[2023-10-24 00:57:11,710 INFO] acc: 0.9514\n",
      "[2023-10-24 00:57:11,711 INFO] precision: 0.9515\n",
      "[2023-10-24 00:57:11,711 INFO] recall: 0.9514\n",
      "[2023-10-24 00:57:11,711 INFO] f1: 0.9513\n",
      "[2023-10-24 00:57:11,981 INFO] Best acc 0.9514 at epoch 0\n",
      "[2023-10-24 00:57:11,982 INFO] Training finished.\n"
     ]
    },
    {
     "name": "stdout",
     "output_type": "stream",
     "text": [
      "model saved: ./saved_models/fixmatch/latest_model.pth\n",
      "model saved: ./saved_models/fixmatch/model_best.pth\n"
     ]
    }
   ],
   "source": [
    "trainer = Trainer(config, algorithm)\n",
    "trainer.fit(train_lb_loader, train_ulb_loader, eval_loader)"
   ]
  },
  {
   "cell_type": "markdown",
   "metadata": {
    "collapsed": false,
    "pycharm": {
     "name": "#%% md\n"
    }
   },
   "source": [
    "## Step 5: evaluate"
   ]
  },
  {
   "cell_type": "code",
   "execution_count": 11,
   "metadata": {
    "collapsed": false,
    "pycharm": {
     "name": "#%%\n"
    }
   },
   "outputs": [],
   "source": [
    "trainer.evaluate(eval_loader)"
   ]
  },
  {
   "cell_type": "markdown",
   "metadata": {
    "collapsed": false,
    "pycharm": {
     "name": "#%% md\n"
    }
   },
   "source": [
    "## Step 6: predict"
   ]
  },
  {
   "cell_type": "code",
   "execution_count": 7,
   "metadata": {
    "collapsed": false,
    "pycharm": {
     "name": "#%%\n"
    }
   },
   "outputs": [],
   "source": [
    "y_pred, y_logits = trainer.predict(eval_loader)"
   ]
  }
 ],
 "metadata": {
  "kernelspec": {
   "display_name": "test",
   "language": "python",
   "name": "python3"
  },
  "language_info": {
   "codemirror_mode": {
    "name": "ipython",
    "version": 3
   },
   "file_extension": ".py",
   "mimetype": "text/x-python",
   "name": "python",
   "nbconvert_exporter": "python",
   "pygments_lexer": "ipython3",
   "version": "3.11.5"
  },
  "vscode": {
   "interpreter": {
    "hash": "efd87a861e5021e4a438e5b61d692cea261dd91508182bfdfdb13fb969975ffe"
   }
  }
 },
 "nbformat": 4,
 "nbformat_minor": 0
}
